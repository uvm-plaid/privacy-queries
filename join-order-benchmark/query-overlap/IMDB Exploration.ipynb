{
 "cells": [
  {
   "cell_type": "code",
   "execution_count": 56,
   "metadata": {},
   "outputs": [],
   "source": [
    "from collections import namedtuple\n",
    "import pandas as pd\n",
    "import numpy as np\n",
    "import functools \n",
    "\n",
    "import sqlite3\n",
    "%run queries_explore.py"
   ]
  },
  {
   "cell_type": "code",
   "execution_count": 57,
   "metadata": {},
   "outputs": [
    {
     "data": {
      "text/html": [
       "<div>\n",
       "<style scoped>\n",
       "    .dataframe tbody tr th:only-of-type {\n",
       "        vertical-align: middle;\n",
       "    }\n",
       "\n",
       "    .dataframe tbody tr th {\n",
       "        vertical-align: top;\n",
       "    }\n",
       "\n",
       "    .dataframe thead th {\n",
       "        text-align: right;\n",
       "    }\n",
       "</style>\n",
       "<table border=\"1\" class=\"dataframe\">\n",
       "  <thead>\n",
       "    <tr style=\"text-align: right;\">\n",
       "      <th></th>\n",
       "      <th>count(*)</th>\n",
       "    </tr>\n",
       "  </thead>\n",
       "  <tbody>\n",
       "    <tr>\n",
       "      <th>0</th>\n",
       "      <td>2524974</td>\n",
       "    </tr>\n",
       "  </tbody>\n",
       "</table>\n",
       "</div>"
      ],
      "text/plain": [
       "   count(*)\n",
       "0   2524974"
      ]
     },
     "execution_count": 57,
     "metadata": {},
     "output_type": "execute_result"
    }
   ],
   "source": [
    "conn = sqlite3.connect(\"/Users/jnear/temp/imdb/imdb.db\")\n",
    "df = pd.read_sql_query(\"select count(*) from title;\", conn)\n",
    "df.head()"
   ]
  },
  {
   "cell_type": "code",
   "execution_count": 41,
   "metadata": {},
   "outputs": [
    {
     "name": "stdout",
     "output_type": "stream",
     "text": [
      "Running query q1a\n",
      "Running query q1b\n",
      "Running query q1c\n",
      "Running query q1d\n",
      "Running query q2a\n",
      "Running query q2b\n",
      "Running query q2c\n",
      "Running query q2d\n"
     ]
    }
   ],
   "source": [
    "dict_all = defaultdict(lambda: {})\n",
    "dict_occur = defaultdict(lambda: defaultdict(int))\n",
    "tables = {1: ['ct', 'it', 'mc', 'mi_idx', 't'],\n",
    "          2: ['cn', 'k', 'mc', 'mk', 't']}\n",
    "\n",
    "for q_num in [1, 2]:\n",
    "    for q_variant in ['a', 'b', 'c', 'd']:\n",
    "        q_name = f\"q{q_num}{q_variant}\"\n",
    "        print(f\"Running query {q_name}\")\n",
    "        fn = globals()[q_name]\n",
    "        for tbl in tables[q_num]:\n",
    "            query = fn(f\"{tbl}.id\")\n",
    "            result = pd.read_sql_query(query, conn)['id'].unique().tolist()\n",
    "            dict[tbl][q_name] = result\n",
    "            for r in result:\n",
    "                dict_occur[tbl][r] = dict_occur[tbl][r] + 1"
   ]
  },
  {
   "cell_type": "code",
   "execution_count": 54,
   "metadata": {},
   "outputs": [
    {
     "name": "stdout",
     "output_type": "stream",
     "text": [
      "\n",
      "========= \tct\t ===========\n",
      "1\t rows are used 4 times\n",
      "\n",
      "========= \tit\t ===========\n",
      "2\t rows are used 2 times\n",
      "\n",
      "========= \tmc\t ===========\n",
      "80198\t rows are used 1 times\n",
      "38\t rows are used 2 times\n",
      "\n",
      "========= \tmi_idx\t ===========\n",
      "106\t rows are used 1 times\n",
      "5\t rows are used 2 times\n",
      "\n",
      "========= \tt\t ===========\n",
      "22404\t rows are used 1 times\n",
      "1248\t rows are used 3 times\n",
      "16\t rows are used 4 times\n",
      "2662\t rows are used 2 times\n",
      "\n",
      "========= \tcn\t ===========\n",
      "10983\t rows are used 1 times\n",
      "\n",
      "========= \tk\t ===========\n",
      "1\t rows are used 3 times\n",
      "\n",
      "========= \tmk\t ===========\n",
      "2660\t rows are used 2 times\n",
      "22340\t rows are used 1 times\n",
      "1259\t rows are used 3 times\n"
     ]
    }
   ],
   "source": [
    "for k in dict_occur.keys():\n",
    "    print(f\"\\n========= \\t{k}\\t ===========\")\n",
    "    d = defaultdict(int)\n",
    "    for v in dict_occur[k].values():\n",
    "        d[v] += 1\n",
    "    for k,v in d.items():\n",
    "        print(f\"{v}\\t rows are used {k} times\")"
   ]
  },
  {
   "cell_type": "code",
   "execution_count": null,
   "metadata": {},
   "outputs": [],
   "source": []
  }
 ],
 "metadata": {
  "kernelspec": {
   "display_name": "Python 3",
   "language": "python",
   "name": "python3"
  },
  "language_info": {
   "codemirror_mode": {
    "name": "ipython",
    "version": 3
   },
   "file_extension": ".py",
   "mimetype": "text/x-python",
   "name": "python",
   "nbconvert_exporter": "python",
   "pygments_lexer": "ipython3",
   "version": "3.6.5"
  }
 },
 "nbformat": 4,
 "nbformat_minor": 2
}
